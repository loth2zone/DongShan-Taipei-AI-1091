{
  "nbformat": 4,
  "nbformat_minor": 0,
  "metadata": {
    "colab": {
      "name": "Week 9 Python資料分析與資料視覺化.ipynb",
      "provenance": [],
      "collapsed_sections": [
        "UlwXZsv8FN9E",
        "ygc5b3PwFN9f",
        "swg2n9SUFN9i",
        "LiZGSdlGFN9l",
        "GIU0qDMBFN9x"
      ],
      "toc_visible": true,
      "include_colab_link": true
    },
    "kernelspec": {
      "display_name": "Python 3",
      "language": "python",
      "name": "python3"
    },
    "language_info": {
      "codemirror_mode": {
        "name": "ipython",
        "version": 3
      },
      "file_extension": ".py",
      "mimetype": "text/x-python",
      "name": "python",
      "nbconvert_exporter": "python",
      "pygments_lexer": "ipython3",
      "version": "3.7.4"
    }
  },
  "cells": [
    {
      "cell_type": "markdown",
      "metadata": {
        "id": "view-in-github",
        "colab_type": "text"
      },
      "source": [
        "<a href=\"https://colab.research.google.com/github/loth2zone/DongShan-Taipei-AI-1091/blob/master/Week_9_Python%E8%B3%87%E6%96%99%E5%88%86%E6%9E%90%E8%88%87%E8%B3%87%E6%96%99%E8%A6%96%E8%A6%BA%E5%8C%96.ipynb\" target=\"_parent\"><img src=\"https://colab.research.google.com/assets/colab-badge.svg\" alt=\"Open In Colab\"/></a>"
      ]
    },
    {
      "cell_type": "markdown",
      "metadata": {
        "id": "CVKYmQHCFN8G"
      },
      "source": [
        "![](http://www.tshs.tp.edu.tw/images/bg/logo.jpg) \n",
        "\n",
        "## 多元選修課程：Python與人工智慧程式設計\n",
        "\n",
        "# 【第九週】Python資料分析與資料視覺化\n",
        "\n",
        "![](https://drive.google.com/uc?export=view&id=1wjRnjbK7XneINl5qaTR1W1cxEB0xWNYS)"
      ]
    },
    {
      "cell_type": "markdown",
      "metadata": {
        "id": "5g2Ji8YdFN8I"
      },
      "source": [
        "## 資料分析(Data Anaysis)\n",
        "\n",
        "![](https://upload.wikimedia.org/wikipedia/commons/thumb/e/ed/Pandas_logo.svg/300px-Pandas_logo.svg.png)\n",
        "\n",
        "**pandas** 是Python受歡迎的資料分析與操作套件，有人也會戲稱它為「熊貓」、或是Python界的<u>Excel</u>。pandas 主要是用來操作和處理表格式的資料(tabular data)。所謂表格式的資料，基本上是一個二維的資料結構，具有行(column)與列(row)。\n",
        "\n",
        "> 台灣常用的用語剛好跟中國大陸相反，為省麻煩乾脆都講英文就不會錯\n",
        ">\n",
        ">||直(英文:column)|橫(英文:row)|\n",
        ">|---|---|---|\n",
        ">|台灣用語|行|列|\n",
        ">|中國大陸用語|列|行|\n",
        "\n",
        "同學們應該可以觀察到，上面這個比較表其實就是一個表格式資料。我們再看一個典型的例子：考試成績表，它的column代表的是每一個人某一科目的成績，row代表的是某一個人的所有科目成績。\n",
        "\n",
        "|索引|座號|國文|英文|數學|\n",
        "|---|---|---|---|---|\n",
        "|0|座號1|63|70|100|\n",
        "|1|座號2|70|70|70|\n",
        "|2|座號3|91|100|56|\n",
        "|3|座號4|70|70|56|\n",
        "|4|座號5|91|84|98|\n",
        "\n",
        "Colab 已經預先安裝 pandas，所以只要執行 import 就可以開始使用。"
      ]
    },
    {
      "cell_type": "code",
      "metadata": {
        "id": "UeFIpj3iFN8I"
      },
      "source": [
        "import pandas as pd"
      ],
      "execution_count": null,
      "outputs": []
    },
    {
      "cell_type": "markdown",
      "metadata": {
        "id": "fn2CHAHtFN8M"
      },
      "source": [
        "pandas 主要有兩種資料型態：Series和DataFrame。簡單來說，Series是一維的資料，通常用來當做column的資料，而DataFrame是二維的資料，也就是整個表格。\n",
        "\n",
        "### 【任務9-1】用 `Series` 和 `DataFrame` 來建立考試成績表資料\n",
        "\n",
        "用Series來建立一維的資料，語法如下：\n",
        "\n",
        "```python\n",
        "pandas.Series(data=\"要建立的資料\", name=\"column名稱\")\n",
        "```\n",
        "\n",
        "其中要建立的資料，可以使用**串列、字典、NumPy陣列**等。在下面的例子中我們示範用串列來建立Series，以上面的考試成績表為例，一步一步建立表格式資料。"
      ]
    },
    {
      "cell_type": "code",
      "metadata": {
        "id": "z8M9W4-FFN8N"
      },
      "source": [
        "# 以串列來儲存座號資料\n",
        "a = [\"座號1\", \"座號2\", \"座號3\", \"座號4\", \"座號5\"]\n",
        "\n",
        "# 用座號串列來建立Series資料\n",
        "s1 = pd.Series(a, name=\"座號\")"
      ],
      "execution_count": null,
      "outputs": []
    },
    {
      "cell_type": "code",
      "metadata": {
        "id": "b0uPZeTJFN8Q"
      },
      "source": [
        "s1   # 印出我們建立的Series"
      ],
      "execution_count": null,
      "outputs": []
    },
    {
      "cell_type": "code",
      "metadata": {
        "id": "tPszSB2bFN8U"
      },
      "source": [
        "# 仿照座號資料，建立國文、英文、數學的資料\n",
        "s2 = pd.Series([63, 70, 91, 70, 91], name='國文')\n",
        "s3 = pd.Series([70, 70, 100, 70, 84], name='英文')\n",
        "s4 = pd.Series([100, 70, 56, 56, 98], name='數學')"
      ],
      "execution_count": null,
      "outputs": []
    },
    {
      "cell_type": "markdown",
      "metadata": {
        "id": "BqeQW08bFN8X"
      },
      "source": [
        "要建立完整的考試成績表表格式資料，可以呼叫 `pd.concat()` 將上面建好的Series資料連接起來。`axis=1`的用意是，我們指定要將每一個Series當做是column。\n",
        "\n",
        "語法如下：\n",
        "\n",
        "```python\n",
        "pandas.concat([Series1, Series2, ...], axis=0)   # 預設連接的軸是軸0\n",
        "```"
      ]
    },
    {
      "cell_type": "code",
      "metadata": {
        "id": "ai4ziDwXFN8X"
      },
      "source": [
        "df = pd.concat([s1, s2, s3, s4], axis=1)\n",
        "df"
      ],
      "execution_count": null,
      "outputs": []
    },
    {
      "cell_type": "markdown",
      "metadata": {
        "id": "zSJWGzXgFN8b"
      },
      "source": [
        "`pandas.concat()` 回傳的資料，其型態就是 DataFrame。"
      ]
    },
    {
      "cell_type": "code",
      "metadata": {
        "id": "hJCh1spMFN8b"
      },
      "source": [
        "type(df)"
      ],
      "execution_count": null,
      "outputs": []
    },
    {
      "cell_type": "markdown",
      "metadata": {
        "id": "DTwz9QyIFN8e"
      },
      "source": [
        "### 【試一試】建立考試成績表時，如果將連接時的軸設為軸0的話，產生的資料會變成什麼樣子？"
      ]
    },
    {
      "cell_type": "code",
      "metadata": {
        "id": "bHZJ7FClFN8f"
      },
      "source": [
        "# 請在下一行開始輸入你的程式碼\n"
      ],
      "execution_count": null,
      "outputs": []
    },
    {
      "cell_type": "markdown",
      "metadata": {
        "id": "OglTRWhoFN8i"
      },
      "source": [
        "### 【任務9-2】怎麼樣取得座號3同學的英文成績？\n",
        "\n",
        "|索引|座號|國文|英文|數學|\n",
        "|---|---|---|---|---|\n",
        "|0|座號1|63|70|100|\n",
        "|1|座號2|70|70|70|\n",
        "|2|座號3|91|100|56|\n",
        "|3|座號4|70|70|56|\n",
        "|4|座號5|91|84|98|\n",
        "\n",
        "要取得特定資料值的類似函式有幾種不同的方式，比較如下：\n",
        "\n",
        "|函式|說明|範例|\n",
        "|---|---|---|\n",
        "|DataFrame.loc()|用名稱來定位資料|df.loc[\"row名稱\"][\"column名稱\"]|\n",
        "|DataFrame.iloc()|用索引來定位資料|df.iloc[\"row索引\"][\"column索引\"]|\n",
        "|DataFrame.at()|用名稱來定位單一筆資料|df.at[\"row名稱\", \"column名稱\"]|"
      ]
    },
    {
      "cell_type": "code",
      "metadata": {
        "id": "He3ufobnFN8i"
      },
      "source": [
        "# 用名稱來定位單一筆資料\n",
        "df.at[2, \"英文\"]"
      ],
      "execution_count": null,
      "outputs": []
    },
    {
      "cell_type": "code",
      "metadata": {
        "id": "UGEYzTp6FN8l"
      },
      "source": [
        "# 用名稱來定位資料\n",
        "df.loc[2][\"英文\"]"
      ],
      "execution_count": null,
      "outputs": []
    },
    {
      "cell_type": "code",
      "metadata": {
        "id": "QIrmX6s7FN8o"
      },
      "source": [
        "# 用索引來定位資料\n",
        "df.iloc[2][2]"
      ],
      "execution_count": null,
      "outputs": []
    },
    {
      "cell_type": "markdown",
      "metadata": {
        "id": "822R2G5eFN8r"
      },
      "source": [
        "對於 `loc` 和 `iloc` 來說，指定的定位索引或是名稱可以是多個，方式是用串列或是範圍。\n",
        "\n",
        "例如：要取得前3個座號的國文、英文、數學成績，我們分別在指定要取得的row時使用串列來定義；而指定要取得的column時用起漿和結尾column來指明， `loc` 就會將\"國文\"～\"數學\"之間的column都找出來(包含\"英文\")。"
      ]
    },
    {
      "cell_type": "code",
      "metadata": {
        "id": "9PlFV7x4FN8r"
      },
      "source": [
        "df.loc[[0, 1, 2], \"國文\":\"數學\"]"
      ],
      "execution_count": null,
      "outputs": []
    },
    {
      "cell_type": "markdown",
      "metadata": {
        "id": "Ure-10EpFN8x"
      },
      "source": [
        "### 【任務9-3】找出每一科最高分、最低分，以及平均分數\n",
        "\n",
        "呼叫 `pandas.describe()` 函式，可以將各個column的統計資料彙整顯示(正式的名稱叫做**「敍述統計Descriptive Statistics」**)。\n",
        "\n",
        "下表是輸出的結果，可以看到裡面有幾個統計資料：\n",
        "- count: 資料筆數\n",
        "- mean: 平均數\n",
        "- std: 標準差；標準差大，代表資料與平均數之間的差異較大，反之則差異較小。\n",
        "- min: 最小值\n",
        "- max: 最大值\n",
        "- 25%, 50%, 75%: 百分位數；代表有多少百分比的分數在這個百分比以下。"
      ]
    },
    {
      "cell_type": "code",
      "metadata": {
        "id": "EVbGNO-0FN8y"
      },
      "source": [
        "df.describe()"
      ],
      "execution_count": null,
      "outputs": []
    },
    {
      "cell_type": "markdown",
      "metadata": {
        "id": "MOqzQVn8FN81"
      },
      "source": [
        "除了 `pandas.describe()` 函式之外，使用 `DataFrame.max()` 與 `DataFrame.min()` 函式也可以取得最大值和最小值。"
      ]
    },
    {
      "cell_type": "code",
      "metadata": {
        "id": "O7WvAIEPFN81"
      },
      "source": [
        "df.max(axis=0)"
      ],
      "execution_count": null,
      "outputs": []
    },
    {
      "cell_type": "code",
      "metadata": {
        "id": "HlVav0mIFN84"
      },
      "source": [
        "df.min(axis=0)"
      ],
      "execution_count": null,
      "outputs": []
    },
    {
      "cell_type": "markdown",
      "metadata": {
        "id": "-7Safb_pFN87"
      },
      "source": [
        "如果只要計算英文科目的平均分數的話，可以加上名稱。"
      ]
    },
    {
      "cell_type": "code",
      "metadata": {
        "id": "SonDd0FLFN87"
      },
      "source": [
        "df[\"英文\"].mean(axis=0)"
      ],
      "execution_count": null,
      "outputs": []
    },
    {
      "cell_type": "markdown",
      "metadata": {
        "id": "F8g7E-OVFN8-"
      },
      "source": [
        "### 【任務9-4】讀取資料來進行分析 - CSV格式的檔案\n",
        "\n",
        "**CSV** 的全名是 Comma-Separated Values，原義是不同的資料點(值)之間用英文逗號 `,` 分隔，CSV檔案則是用文字檔案的格式儲存。\n",
        "\n",
        "但是廣義來說，常用來分隔資料點的符號有很多種，所以現在不一定是用英文逗號來分隔，開啟的時候可以告訴 pandas 是用哪一種符號。\n",
        "\n",
        "> CSV檔案可以簡化視為簡單版的Excel檔案；CSV檔案載入後會形成表格式的資料。\n",
        "\n",
        "pandas 提供用來開啟 CSV 檔案的函式為 `pandas.read_csv()`，回傳的資料型別為 `DataFrame`。語法及常用的引數說明：\n",
        "\n",
        "```python\n",
        "pandas.read_csv(filepath, sep=',', header='infer')\n",
        "```\n",
        "\n",
        "- filepath_or_buffer：檔案路徑及名稱\n",
        "- sep：分隔符號\n",
        "- header：是否有欄位名稱。通常欄位名稱在第一個row，但也可以指定哪一個row是欄位名稱；如果沒有的話，就設為 None。\n",
        "\n",
        "例如：要讀取一個名為 `insurance.csv` 的 CSV 檔案，語法如下。"
      ]
    },
    {
      "cell_type": "code",
      "metadata": {
        "id": "SztldIImFN8-"
      },
      "source": [
        "insurance = pd.read_csv(\"insurance.csv\")\n",
        "type(insurance)"
      ],
      "execution_count": null,
      "outputs": []
    },
    {
      "cell_type": "markdown",
      "metadata": {
        "id": "TqAn-A1FFN9B"
      },
      "source": [
        "## 資料視覺化(Data Visualization)\n",
        "\n",
        "有一句英文諺語 \"A picture is worth a thousand word\"，也有研究指出 90% 的資訊是透過圖像進入到大腦中，在在都說明視筧化對於資料呈現的重要性。\n",
        "\n",
        "**資料視覺化**是統計學中重要的內容，透過圖表可以將資料更生動地呈現出來。Python環境中資料視覺化的套件很多，尤其以 matplotlib 最受歡迎，與其他套件的整合性也最好。\n",
        "\n",
        "![](https://matplotlib.org/_static/logo2_compressed.svg)\n",
        "\n",
        "colab 已經預先安裝 matplotlib，所以只要輸入 import 就可以使用。"
      ]
    },
    {
      "cell_type": "code",
      "metadata": {
        "id": "hOOuQmR2FN9C"
      },
      "source": [
        "import matplotlib.pyplot as plt"
      ],
      "execution_count": null,
      "outputs": []
    },
    {
      "cell_type": "markdown",
      "metadata": {
        "id": "UlwXZsv8FN9E"
      },
      "source": [
        "### 【任務9-5】擲骰子每個數字出現的次數是不是約略相同，畫張圖表來顯示 - 柱狀圖(Bar Chart)"
      ]
    },
    {
      "cell_type": "code",
      "metadata": {
        "id": "Cbuk2x1sFN9F"
      },
      "source": [
        "import random\n",
        "\n",
        "random.seed(3)\n",
        "\n",
        "a = []\n",
        "\n",
        "for i in range(10000):\n",
        "    a.append(random.randint(1, 6))"
      ],
      "execution_count": null,
      "outputs": []
    },
    {
      "cell_type": "code",
      "metadata": {
        "id": "PzmyHhcFFN9H"
      },
      "source": [
        "for j in range(1, 7):\n",
        "    print(j, \"出現的次數：\", a.count(j))"
      ],
      "execution_count": null,
      "outputs": []
    },
    {
      "cell_type": "markdown",
      "metadata": {
        "id": "yOZRzyHtFN9K"
      },
      "source": [
        "用 collections 模組的功能，將串列中所有骰子出現的次數統計，並且存為字典格式。"
      ]
    },
    {
      "cell_type": "code",
      "metadata": {
        "id": "h-yuoBK7FN9K"
      },
      "source": [
        "from collections import Counter\n",
        "\n",
        "counts = Counter(a)\n",
        "counts"
      ],
      "execution_count": null,
      "outputs": []
    },
    {
      "cell_type": "markdown",
      "metadata": {
        "id": "7M_9XthYFN9N"
      },
      "source": [
        "有了次數統計字典資料，我們就可以將擲骰子的各個次數，用柱狀圖(bar chart)畫出來。由於每個點數出現的機率應該是相同的，繪製柱狀圖可以看出，每個點數出現的次數約略相同。"
      ]
    },
    {
      "cell_type": "code",
      "metadata": {
        "id": "4D0aMPvUFN9N"
      },
      "source": [
        "plt.bar(x=counts.keys(), height=counts.values())\n",
        "plt.show()"
      ],
      "execution_count": null,
      "outputs": []
    },
    {
      "cell_type": "markdown",
      "metadata": {
        "id": "0dfBtGyPFN9Q"
      },
      "source": [
        "### 【任務9-6】用散點圖(Scatter Plot)來看資料的分布\n",
        "\n",
        "散點圖常用來觀察資料的分布，也可以從分布的情況約略看出資料是否是不是歸屬其類別。要繪製散點圖時須告訴它資料點的x軸與y軸的值是多少，才能繪製出正確的點。\n",
        "\n",
        "下面的範例是讀取保險資料，藉此來觀察不同條件的人(年齡、性別、BMI值、子女數、是否抽菸、居住區域)其繳納保險費(charges)的高低。"
      ]
    },
    {
      "cell_type": "code",
      "metadata": {
        "id": "DzUs95tPFN9R"
      },
      "source": [
        "insurance = pd.read_csv(\"insurance.csv\")\n",
        "insurance"
      ],
      "execution_count": null,
      "outputs": []
    },
    {
      "cell_type": "markdown",
      "metadata": {
        "id": "IDLx94eNFN9U"
      },
      "source": [
        "通常我們的認知是BMI的高低與健康情況相關，而健康與否關係到投保時的保險費。\n",
        "\n",
        "首先我們先繪出BMI與保險費的分布。從圖中約略可以看出，似乎BMI愈高(不健康)的人保險費有較高的現象。"
      ]
    },
    {
      "cell_type": "code",
      "metadata": {
        "id": "05iAUNAaFN9U"
      },
      "source": [
        "plt.scatter(x=insurance[\"bmi\"], y=insurance[\"charges\"])\n",
        "plt.show()"
      ],
      "execution_count": null,
      "outputs": []
    },
    {
      "cell_type": "markdown",
      "metadata": {
        "id": "3XO7P7xyFN9X"
      },
      "source": [
        "### 【想一想】BMI相同的人保險費也有高有低，這是什麼原因呢？\n",
        "\n",
        "不過，從上面的圖我們也發現，BMI相同的人保險費也有高有低，這是什麼原因呢？\n",
        "\n",
        "我們嘗試將有沒有抽菸這個資料加到圖中。由於抽菸可能導致健康問題，而健康又會影響保險費。我們將有沒有抽菸用不同的顏色區分，這時候會發現同樣BMI的人，有抽菸的人保險費明顯較高。\n",
        "\n",
        "![](https://seaborn.pydata.org/_static/logo-wide-lightbg.svg)\n",
        "\n",
        "下圖我們使用的是 seaborn 套件，可以把它視為是 matplotlib 的外掛，讓我們在繪製圖表時更簡單但有更強大的功能。\n",
        "\n",
        "colab 已經預先安裝 seaborn，所以只要輸入 import 就可以使用。"
      ]
    },
    {
      "cell_type": "code",
      "metadata": {
        "id": "7PypaNGTFN9Y"
      },
      "source": [
        "import seaborn as sns\n",
        "\n",
        "sns.scatterplot(x=insurance[\"bmi\"], y=insurance[\"charges\"], hue=insurance[\"smoker\"])\n",
        "plt.show()"
      ],
      "execution_count": null,
      "outputs": []
    },
    {
      "cell_type": "markdown",
      "metadata": {
        "id": "7JW4U_2sFN9a"
      },
      "source": [
        "### 【挑戰】用花瓣的長度或寬度來區分花的種類 - 鳶尾花資料集\n",
        "\n",
        "鳶尾花資料集（英文：Iris flower data set）最初是20世紀初由生物學家埃德加·安德森從加拿大加斯帕半島上的鳶尾屬花朵中提取的數據，後由統計學家羅納德·費雪運用到統計學中。在學習機器學習時也是常被人們用來練習的資料集。\n",
        "\n",
        "在鳶尾花資料集有4個column，分別記錄不同品種鳶尾花的花萼(sepal)和花瓣(petal)的長度和寬度。\n",
        "\n",
        "資料集包含了150個樣本，都屬於鳶尾屬下的三個亞屬，分別是山鳶尾(Iris Setosa)、變色鳶尾(Iris Versicolour)和維吉尼亞鳶尾(Iris Virginica)。四個特徵分別是花萼和花瓣的長度和寬度(單位為公分)。\n",
        "\n",
        "[資料來源：維基百科]\n",
        "\n",
        "#### <font color=\"red\">問題：</font>\n",
        "\n",
        "在這個挑戰中，請載入 Iris dataset，依照花瓣(petal)的長度和寬度繪製出散點圖，並以顏色標示不同品種的點，藉此來觀察花瓣長度和寬度是否能約略區分出花的鳶尾花的品種。"
      ]
    },
    {
      "cell_type": "markdown",
      "metadata": {
        "id": "ul-NEtUxFN9a"
      },
      "source": [
        "#### 步驟1\n",
        "\n",
        "將資料集檔案 `iris.data` 上傳至colab，並使用 pandas 的 `read_csv()` 函式將檔案讀入建立DataFrame。\n",
        "\n",
        "特別要注意的是這個資料集檔案中並沒有欄位名稱。"
      ]
    },
    {
      "cell_type": "code",
      "metadata": {
        "id": "AfpkEP7mFN9b"
      },
      "source": [
        "import pandas as pd\n",
        "\n",
        "# 請從下一行開始撰寫程式\n",
        "iris = "
      ],
      "execution_count": null,
      "outputs": []
    },
    {
      "cell_type": "code",
      "metadata": {
        "id": "BflDyxLcFN9d"
      },
      "source": [
        "# 執行此區塊，確認輸出的形狀是否為150筆資料、5個column\n",
        "# 若不是的話，表示讀取檔案不正確\n",
        "iris.shape"
      ],
      "execution_count": null,
      "outputs": []
    },
    {
      "cell_type": "markdown",
      "metadata": {
        "id": "ygc5b3PwFN9f"
      },
      "source": [
        "#### 步驟2\n",
        "\n",
        "填空題，請將須傳入的x軸、y軸、及顏色編碼依據的品種，做為呼叫 `scatterplot()` 的引數傳入。"
      ]
    },
    {
      "cell_type": "code",
      "metadata": {
        "id": "qjSvajRwFN9g"
      },
      "source": [
        "# 將品種的值取出，將做為顯示顏色的依據\n",
        "species = iris[4].values\n",
        "\n",
        "# 請從完成下一行程式，傳入3個引數需要的值\n",
        "sns.scatterplot(x=, y=, hue=)\n",
        "\n",
        "# 設定x軸與y軸的顯示名稱\n",
        "plt.xlabel('Petal Length')\n",
        "plt.ylabel('Petal Width')\n",
        "plt.show()"
      ],
      "execution_count": null,
      "outputs": []
    },
    {
      "cell_type": "markdown",
      "metadata": {
        "id": "swg2n9SUFN9i"
      },
      "source": [
        "### 【回憶】用折線圖看出數字的變化\n",
        "\n",
        "如果我們想要用中央氣象局的統計數字，畫一張折線圖來看看每個月平均氣溫的變化。\n",
        "\n",
        "首先我們可以從中央氣象局的網頁查到2020年台北市每個月的平均氣溫。\n",
        "\n",
        "|一月|二月|三月|四月|五月|六月|七月|八月|九月|\n",
        "|---|---|---|---|---|---|---|---|---|\n",
        "|17.9|18.7|20.8|20.9|26.9|30.5|30.9|30.2|27.8|\n",
        "\n",
        "資料來源：\n",
        "\n",
        "- 中央氣象局**每月氣象**網頁 [https://www.cwb.gov.tw/V8/C/C/Statistics/monthlydata.html](https://www.cwb.gov.tw/V8/C/C/Statistics/monthlydata.html)\n",
        "\n",
        "- 中央氣象局**氣候月平均**網頁 [https://www.cwb.gov.tw/V8/C/C/Statistics/monthlymean.html](https://www.cwb.gov.tw/V8/C/C/Statistics/monthlymean.html)\n",
        "\n",
        "下面的範例中，用兩個串列來存放月份及各月平均氣溫。使用 `plot()` 函式來畫出折線圖。"
      ]
    },
    {
      "cell_type": "code",
      "metadata": {
        "id": "6olwcUWEFN9j"
      },
      "source": [
        "x = ['Jan', 'Feb','Mar','Apr','May','Jun','Jul', 'Aug', 'Sep']\n",
        "y = [17.9, 18.7, 20.8, 20.9, 26.9, 30.5, 30.9, 30.2, 27.8]\n",
        "\n",
        "plt.ylim(0, 40)   # 設定y軸的最大值和最小值\n",
        "plt.plot(x, y, color='red')   # 傳入資料，並設定折線的顏色\n",
        "plt.show()   # 顯示圖表"
      ],
      "execution_count": null,
      "outputs": []
    },
    {
      "cell_type": "markdown",
      "metadata": {
        "id": "LiZGSdlGFN9l"
      },
      "source": [
        "### 【任務9-7】台北2020年比2019年熱嗎？\n",
        "\n",
        "將資料集檔案 taipei_temp_history.csv 上傳至colab，並使用 pandas 的 read_csv() 函式將檔案讀入建立DataFrame。\n",
        "\n",
        "在這個檔案中，包含了2020、2019年台北市每月平均氣溫，以及1981-2010之間的台北市每月平均氣溫，年份分別標示為2020、2019、historical。"
      ]
    },
    {
      "cell_type": "code",
      "metadata": {
        "id": "O6DahlkOFN9l"
      },
      "source": [
        "# 載入資料檔\n",
        "df = pd.read_csv(\"taipei_temp_history.csv\")\n",
        "df"
      ],
      "execution_count": null,
      "outputs": []
    },
    {
      "cell_type": "markdown",
      "metadata": {
        "id": "cdzF35h9FN9o"
      },
      "source": [
        "由於年份並非氣溫資料，所以我們將其設定為索引標籤，使用 `DataFrame.set_index()` 函式。"
      ]
    },
    {
      "cell_type": "code",
      "metadata": {
        "id": "1SpBm9L3FN9o"
      },
      "source": [
        "df = df.set_index(\"year\")"
      ],
      "execution_count": null,
      "outputs": []
    },
    {
      "cell_type": "markdown",
      "metadata": {
        "id": "3T96IDjoFN9r"
      },
      "source": [
        "查看2019的每月平均氣溫資料。由於2019年的資料row的索引是1(也就是第二橫列)，所以我們用 `iloc[1]` 來取得。"
      ]
    },
    {
      "cell_type": "code",
      "metadata": {
        "id": "TWAMmajBFN9r"
      },
      "source": [
        "df.iloc[1]"
      ],
      "execution_count": null,
      "outputs": []
    },
    {
      "cell_type": "markdown",
      "metadata": {
        "id": "uB5ouJdWFN9u"
      },
      "source": [
        "折線圖的資料接受 pandas Series 做為資料來源，分別將2020和2019的資料傳入。\n",
        "\n",
        "要畫出多條折線，可以執行多個 `plt.plot()` 分別畫出不同的線條，並且用顏色區分。"
      ]
    },
    {
      "cell_type": "code",
      "metadata": {
        "id": "LUn6Zua2FN9u"
      },
      "source": [
        "plt.ylim(10, 40)\n",
        "plt.plot(df.iloc[0], color='red')\n",
        "plt.plot(df.iloc[1], color='blue')\n",
        "plt.legend([2020, 2019])\n",
        "plt.show()"
      ],
      "execution_count": null,
      "outputs": []
    },
    {
      "cell_type": "markdown",
      "metadata": {
        "id": "3TNpXGDzFN9w"
      },
      "source": [
        "看到圖形後，你覺得台北2020年比2019年熱嗎？"
      ]
    },
    {
      "cell_type": "markdown",
      "metadata": {
        "id": "GIU0qDMBFN9x"
      },
      "source": [
        "### 【挑戰】夏天北極38度了，今年到底有多熱？\n",
        "\n",
        "據統計資料指出，2020年是有史以來最熱的一年，不知道在夏天時你是否感受熱到受不了，中午時動不動就是38度的體感溫度，未來恐怕全球暖化將會加劇極端氣候持續發生。\n",
        "\n",
        "#### <font color=\"red\">問題：</font>\n",
        "\n",
        "台灣氣溫變化的情況又是如何呢？我們從中央氣象局提供的每月平均氣溫是否能夠發現2020年平均氣溫是否比往年高？我們可以運用Python及matplotlib畫張比較圖表來觀察。\n",
        "\n",
        "參考資料：[2020恐是有史以來最熱的一年！氣候科學家警告：環保行動做再多都阻止不了全球暖化](https://www.storm.mg/lifestyle/2889296)"
      ]
    },
    {
      "cell_type": "code",
      "metadata": {
        "id": "TZRrWHMbFN9x"
      },
      "source": [
        "import pandas as pd\n",
        "import matplotlib.pyplot as plt"
      ],
      "execution_count": null,
      "outputs": []
    },
    {
      "cell_type": "code",
      "metadata": {
        "id": "_WEMXpIXFN9z"
      },
      "source": [
        "# 請從下一行開始撰寫程式，讀取 CSV 檔案\n"
      ],
      "execution_count": null,
      "outputs": []
    },
    {
      "cell_type": "code",
      "metadata": {
        "id": "XzYqGRcXFN91"
      },
      "source": [
        "plt.ylim(10, 40)\n",
        "plt.plot(df.iloc[0][:], color='red')"
      ],
      "execution_count": null,
      "outputs": []
    },
    {
      "cell_type": "code",
      "metadata": {
        "id": "Vj07-tuUFN94"
      },
      "source": [
        "# 請在此處傳入歷史資料，並繪製成綠色線條以供識別\n"
      ],
      "execution_count": null,
      "outputs": []
    },
    {
      "cell_type": "code",
      "metadata": {
        "id": "1H_VO0MLFN97"
      },
      "source": [
        "# 請在此處將圖例設為2020及Historial\n"
      ],
      "execution_count": null,
      "outputs": []
    },
    {
      "cell_type": "code",
      "metadata": {
        "id": "VYWgHm-lFN99"
      },
      "source": [
        "plt.show()"
      ],
      "execution_count": null,
      "outputs": []
    },
    {
      "cell_type": "markdown",
      "metadata": {
        "id": "WUlnpssZFN-B"
      },
      "source": [
        "看到圖形後，你覺得台北2020年可能是史上最熱嗎？"
      ]
    },
    {
      "cell_type": "code",
      "metadata": {
        "id": "jCnILc2aFN-B"
      },
      "source": [
        ""
      ],
      "execution_count": null,
      "outputs": []
    }
  ]
}