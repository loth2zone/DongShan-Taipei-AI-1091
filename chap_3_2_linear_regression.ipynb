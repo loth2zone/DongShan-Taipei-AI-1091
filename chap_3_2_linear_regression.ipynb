{
  "nbformat": 4,
  "nbformat_minor": 0,
  "metadata": {
    "colab": {
      "name": "chap.3.2_linear_regression.ipynb",
      "provenance": [],
      "collapsed_sections": [],
      "include_colab_link": true
    },
    "kernelspec": {
      "name": "python3",
      "display_name": "Python 3"
    }
  },
  "cells": [
    {
      "cell_type": "markdown",
      "metadata": {
        "id": "view-in-github",
        "colab_type": "text"
      },
      "source": [
        "<a href=\"https://colab.research.google.com/github/loth2zone/DongShan-Taipei-AI-1091/blob/master/chap_3_2_linear_regression.ipynb\" target=\"_parent\"><img src=\"https://colab.research.google.com/assets/colab-badge.svg\" alt=\"Open In Colab\"/></a>"
      ]
    },
    {
      "cell_type": "markdown",
      "metadata": {
        "id": "OBQef6NDBX8-"
      },
      "source": [
        "<p align=\"center\" ><img src=\"https://www.ai4kids.ai/wp-content/uploads/2019/07/ai4kids_website_logo_120x40.png\"></img></p>\n",
        "\n",
        "# 學AI真簡單 <1> 初探機器學習\n",
        "## 第三章 動手實作監督式學習 \n",
        "### 3-2 房價秒預測—線性迴歸介紹與應用\n",
        "\n",
        "<p align=\"right\">© Copyright AI4kids.ai</p>"
      ]
    },
    {
      "cell_type": "markdown",
      "metadata": {
        "id": "xlb7hJ18pfzL"
      },
      "source": [
        ""
      ]
    },
    {
      "cell_type": "markdown",
      "metadata": {
        "id": "gD8-eQVv-mIN"
      },
      "source": [
        "# 1. 載入所需套件"
      ]
    },
    {
      "cell_type": "code",
      "metadata": {
        "id": "w3OLc2SR9QYK"
      },
      "source": [
        "# 如果要使用一些datasets，都會放在sklearn的datasets下面\n",
        "# 從 sklearn 載入波士頓房價的資料集\n",
        "from sklearn.datasets import load_boston\n",
        "\n",
        "# 載入我們會用到的模型，線性回歸模型\n",
        "from sklearn.linear_model import LinearRegression\n",
        "\n",
        "# 載入切分資料集成訓練集及測試集的套件，train_test_split\n",
        "from sklearn.model_selection import train_test_split\n",
        "\n",
        "# 載入驗證模型的套件，mean_square_error\n",
        "from sklearn.metrics import mean_squared_error"
      ],
      "execution_count": null,
      "outputs": []
    },
    {
      "cell_type": "markdown",
      "metadata": {
        "id": "dS8BBv_oIasI"
      },
      "source": [
        "# 2. 載入資料集，觀察資料集"
      ]
    },
    {
      "cell_type": "code",
      "metadata": {
        "id": "OF2XhH97IeO8",
        "colab": {
          "base_uri": "https://localhost:8080/"
        },
        "outputId": "16681221-00e2-45f7-c51a-fffa51cb2b4e"
      },
      "source": [
        "# 載入資料集，放到 my_data變數內\n",
        "my_data = load_boston()\n",
        "\n",
        "# 可以把 my_data 給印出來，看一下裡面的內容\n",
        "# 印出來後可知他有幾個 key name 有：\"data\",\"target\",\"target_names\",\"DESCR\",\"filename\" ...等\n",
        "print(my_data)"
      ],
      "execution_count": null,
      "outputs": [
        {
          "output_type": "stream",
          "text": [
            "{'data': array([[6.3200e-03, 1.8000e+01, 2.3100e+00, ..., 1.5300e+01, 3.9690e+02,\n",
            "        4.9800e+00],\n",
            "       [2.7310e-02, 0.0000e+00, 7.0700e+00, ..., 1.7800e+01, 3.9690e+02,\n",
            "        9.1400e+00],\n",
            "       [2.7290e-02, 0.0000e+00, 7.0700e+00, ..., 1.7800e+01, 3.9283e+02,\n",
            "        4.0300e+00],\n",
            "       ...,\n",
            "       [6.0760e-02, 0.0000e+00, 1.1930e+01, ..., 2.1000e+01, 3.9690e+02,\n",
            "        5.6400e+00],\n",
            "       [1.0959e-01, 0.0000e+00, 1.1930e+01, ..., 2.1000e+01, 3.9345e+02,\n",
            "        6.4800e+00],\n",
            "       [4.7410e-02, 0.0000e+00, 1.1930e+01, ..., 2.1000e+01, 3.9690e+02,\n",
            "        7.8800e+00]]), 'target': array([24. , 21.6, 34.7, 33.4, 36.2, 28.7, 22.9, 27.1, 16.5, 18.9, 15. ,\n",
            "       18.9, 21.7, 20.4, 18.2, 19.9, 23.1, 17.5, 20.2, 18.2, 13.6, 19.6,\n",
            "       15.2, 14.5, 15.6, 13.9, 16.6, 14.8, 18.4, 21. , 12.7, 14.5, 13.2,\n",
            "       13.1, 13.5, 18.9, 20. , 21. , 24.7, 30.8, 34.9, 26.6, 25.3, 24.7,\n",
            "       21.2, 19.3, 20. , 16.6, 14.4, 19.4, 19.7, 20.5, 25. , 23.4, 18.9,\n",
            "       35.4, 24.7, 31.6, 23.3, 19.6, 18.7, 16. , 22.2, 25. , 33. , 23.5,\n",
            "       19.4, 22. , 17.4, 20.9, 24.2, 21.7, 22.8, 23.4, 24.1, 21.4, 20. ,\n",
            "       20.8, 21.2, 20.3, 28. , 23.9, 24.8, 22.9, 23.9, 26.6, 22.5, 22.2,\n",
            "       23.6, 28.7, 22.6, 22. , 22.9, 25. , 20.6, 28.4, 21.4, 38.7, 43.8,\n",
            "       33.2, 27.5, 26.5, 18.6, 19.3, 20.1, 19.5, 19.5, 20.4, 19.8, 19.4,\n",
            "       21.7, 22.8, 18.8, 18.7, 18.5, 18.3, 21.2, 19.2, 20.4, 19.3, 22. ,\n",
            "       20.3, 20.5, 17.3, 18.8, 21.4, 15.7, 16.2, 18. , 14.3, 19.2, 19.6,\n",
            "       23. , 18.4, 15.6, 18.1, 17.4, 17.1, 13.3, 17.8, 14. , 14.4, 13.4,\n",
            "       15.6, 11.8, 13.8, 15.6, 14.6, 17.8, 15.4, 21.5, 19.6, 15.3, 19.4,\n",
            "       17. , 15.6, 13.1, 41.3, 24.3, 23.3, 27. , 50. , 50. , 50. , 22.7,\n",
            "       25. , 50. , 23.8, 23.8, 22.3, 17.4, 19.1, 23.1, 23.6, 22.6, 29.4,\n",
            "       23.2, 24.6, 29.9, 37.2, 39.8, 36.2, 37.9, 32.5, 26.4, 29.6, 50. ,\n",
            "       32. , 29.8, 34.9, 37. , 30.5, 36.4, 31.1, 29.1, 50. , 33.3, 30.3,\n",
            "       34.6, 34.9, 32.9, 24.1, 42.3, 48.5, 50. , 22.6, 24.4, 22.5, 24.4,\n",
            "       20. , 21.7, 19.3, 22.4, 28.1, 23.7, 25. , 23.3, 28.7, 21.5, 23. ,\n",
            "       26.7, 21.7, 27.5, 30.1, 44.8, 50. , 37.6, 31.6, 46.7, 31.5, 24.3,\n",
            "       31.7, 41.7, 48.3, 29. , 24. , 25.1, 31.5, 23.7, 23.3, 22. , 20.1,\n",
            "       22.2, 23.7, 17.6, 18.5, 24.3, 20.5, 24.5, 26.2, 24.4, 24.8, 29.6,\n",
            "       42.8, 21.9, 20.9, 44. , 50. , 36. , 30.1, 33.8, 43.1, 48.8, 31. ,\n",
            "       36.5, 22.8, 30.7, 50. , 43.5, 20.7, 21.1, 25.2, 24.4, 35.2, 32.4,\n",
            "       32. , 33.2, 33.1, 29.1, 35.1, 45.4, 35.4, 46. , 50. , 32.2, 22. ,\n",
            "       20.1, 23.2, 22.3, 24.8, 28.5, 37.3, 27.9, 23.9, 21.7, 28.6, 27.1,\n",
            "       20.3, 22.5, 29. , 24.8, 22. , 26.4, 33.1, 36.1, 28.4, 33.4, 28.2,\n",
            "       22.8, 20.3, 16.1, 22.1, 19.4, 21.6, 23.8, 16.2, 17.8, 19.8, 23.1,\n",
            "       21. , 23.8, 23.1, 20.4, 18.5, 25. , 24.6, 23. , 22.2, 19.3, 22.6,\n",
            "       19.8, 17.1, 19.4, 22.2, 20.7, 21.1, 19.5, 18.5, 20.6, 19. , 18.7,\n",
            "       32.7, 16.5, 23.9, 31.2, 17.5, 17.2, 23.1, 24.5, 26.6, 22.9, 24.1,\n",
            "       18.6, 30.1, 18.2, 20.6, 17.8, 21.7, 22.7, 22.6, 25. , 19.9, 20.8,\n",
            "       16.8, 21.9, 27.5, 21.9, 23.1, 50. , 50. , 50. , 50. , 50. , 13.8,\n",
            "       13.8, 15. , 13.9, 13.3, 13.1, 10.2, 10.4, 10.9, 11.3, 12.3,  8.8,\n",
            "        7.2, 10.5,  7.4, 10.2, 11.5, 15.1, 23.2,  9.7, 13.8, 12.7, 13.1,\n",
            "       12.5,  8.5,  5. ,  6.3,  5.6,  7.2, 12.1,  8.3,  8.5,  5. , 11.9,\n",
            "       27.9, 17.2, 27.5, 15. , 17.2, 17.9, 16.3,  7. ,  7.2,  7.5, 10.4,\n",
            "        8.8,  8.4, 16.7, 14.2, 20.8, 13.4, 11.7,  8.3, 10.2, 10.9, 11. ,\n",
            "        9.5, 14.5, 14.1, 16.1, 14.3, 11.7, 13.4,  9.6,  8.7,  8.4, 12.8,\n",
            "       10.5, 17.1, 18.4, 15.4, 10.8, 11.8, 14.9, 12.6, 14.1, 13. , 13.4,\n",
            "       15.2, 16.1, 17.8, 14.9, 14.1, 12.7, 13.5, 14.9, 20. , 16.4, 17.7,\n",
            "       19.5, 20.2, 21.4, 19.9, 19. , 19.1, 19.1, 20.1, 19.9, 19.6, 23.2,\n",
            "       29.8, 13.8, 13.3, 16.7, 12. , 14.6, 21.4, 23. , 23.7, 25. , 21.8,\n",
            "       20.6, 21.2, 19.1, 20.6, 15.2,  7. ,  8.1, 13.6, 20.1, 21.8, 24.5,\n",
            "       23.1, 19.7, 18.3, 21.2, 17.5, 16.8, 22.4, 20.6, 23.9, 22. , 11.9]), 'feature_names': array(['CRIM', 'ZN', 'INDUS', 'CHAS', 'NOX', 'RM', 'AGE', 'DIS', 'RAD',\n",
            "       'TAX', 'PTRATIO', 'B', 'LSTAT'], dtype='<U7'), 'DESCR': \".. _boston_dataset:\\n\\nBoston house prices dataset\\n---------------------------\\n\\n**Data Set Characteristics:**  \\n\\n    :Number of Instances: 506 \\n\\n    :Number of Attributes: 13 numeric/categorical predictive. Median Value (attribute 14) is usually the target.\\n\\n    :Attribute Information (in order):\\n        - CRIM     per capita crime rate by town\\n        - ZN       proportion of residential land zoned for lots over 25,000 sq.ft.\\n        - INDUS    proportion of non-retail business acres per town\\n        - CHAS     Charles River dummy variable (= 1 if tract bounds river; 0 otherwise)\\n        - NOX      nitric oxides concentration (parts per 10 million)\\n        - RM       average number of rooms per dwelling\\n        - AGE      proportion of owner-occupied units built prior to 1940\\n        - DIS      weighted distances to five Boston employment centres\\n        - RAD      index of accessibility to radial highways\\n        - TAX      full-value property-tax rate per $10,000\\n        - PTRATIO  pupil-teacher ratio by town\\n        - B        1000(Bk - 0.63)^2 where Bk is the proportion of blacks by town\\n        - LSTAT    % lower status of the population\\n        - MEDV     Median value of owner-occupied homes in $1000's\\n\\n    :Missing Attribute Values: None\\n\\n    :Creator: Harrison, D. and Rubinfeld, D.L.\\n\\nThis is a copy of UCI ML housing dataset.\\nhttps://archive.ics.uci.edu/ml/machine-learning-databases/housing/\\n\\n\\nThis dataset was taken from the StatLib library which is maintained at Carnegie Mellon University.\\n\\nThe Boston house-price data of Harrison, D. and Rubinfeld, D.L. 'Hedonic\\nprices and the demand for clean air', J. Environ. Economics & Management,\\nvol.5, 81-102, 1978.   Used in Belsley, Kuh & Welsch, 'Regression diagnostics\\n...', Wiley, 1980.   N.B. Various transformations are used in the table on\\npages 244-261 of the latter.\\n\\nThe Boston house-price data has been used in many machine learning papers that address regression\\nproblems.   \\n     \\n.. topic:: References\\n\\n   - Belsley, Kuh & Welsch, 'Regression diagnostics: Identifying Influential Data and Sources of Collinearity', Wiley, 1980. 244-261.\\n   - Quinlan,R. (1993). Combining Instance-Based and Model-Based Learning. In Proceedings on the Tenth International Conference of Machine Learning, 236-243, University of Massachusetts, Amherst. Morgan Kaufmann.\\n\", 'filename': '/usr/local/lib/python3.6/dist-packages/sklearn/datasets/data/boston_house_prices.csv'}\n"
          ],
          "name": "stdout"
        }
      ]
    },
    {
      "cell_type": "code",
      "metadata": {
        "id": "tLqFVPjHK_4T",
        "colab": {
          "base_uri": "https://localhost:8080/"
        },
        "outputId": "867fc05c-68cc-4d9d-ad64-765133b381ae"
      },
      "source": [
        "# 直接觀察有哪些 key 在資料集內\n",
        "print(my_data.keys())"
      ],
      "execution_count": null,
      "outputs": [
        {
          "output_type": "stream",
          "text": [
            "dict_keys(['data', 'target', 'feature_names', 'DESCR', 'filename'])\n"
          ],
          "name": "stdout"
        }
      ]
    },
    {
      "cell_type": "code",
      "metadata": {
        "id": "GMOgmowwNo_z",
        "colab": {
          "base_uri": "https://localhost:8080/"
        },
        "outputId": "b017b648-0ec7-4172-a04b-422fca385122"
      },
      "source": [
        "# 觀察資料筆數\n",
        "print(\"資料筆數:\")\n",
        "print(my_data.data.shape)\n",
        "print(\"\\n\")\n",
        "\n",
        "# 觀察我們資料的欄位名稱\n",
        "print(\"資料的欄位名稱，分別是:\")\n",
        "print(my_data.feature_names)\n",
        "print(\"\\n\")\n",
        "\n",
        "# 觀察我們第一筆的資料內容\n",
        "print(\"第一筆的資料內容:\")\n",
        "print(my_data.data[0])\n",
        "print(\"\\n\")\n",
        "\n",
        "# 觀察我們第一筆的預測目標\n",
        "print(\"第一筆的預測目標:\")\n",
        "print(my_data.target[0])\n",
        "print(\"\\n\")\n",
        "\n",
        "# 每個 sklearn 所附的資料集都有 DESCR 這個key可以選來看，代表這個資料集的描述(description的縮寫)\n",
        "# 這邊礙於篇幅的關係先註解掉了，讀者可以自行把註解拿掉執行看看\n",
        "# print(my_data.DESCR)"
      ],
      "execution_count": null,
      "outputs": [
        {
          "output_type": "stream",
          "text": [
            "資料筆數:\n",
            "(506, 13)\n",
            "\n",
            "\n",
            "資料的欄位名稱，分別是:\n",
            "['CRIM' 'ZN' 'INDUS' 'CHAS' 'NOX' 'RM' 'AGE' 'DIS' 'RAD' 'TAX' 'PTRATIO'\n",
            " 'B' 'LSTAT']\n",
            "\n",
            "\n",
            "第一筆的資料內容:\n",
            "[6.320e-03 1.800e+01 2.310e+00 0.000e+00 5.380e-01 6.575e+00 6.520e+01\n",
            " 4.090e+00 1.000e+00 2.960e+02 1.530e+01 3.969e+02 4.980e+00]\n",
            "\n",
            "\n",
            "第一筆的預測目標:\n",
            "24.0\n",
            "\n",
            "\n"
          ],
          "name": "stdout"
        }
      ]
    },
    {
      "cell_type": "markdown",
      "metadata": {
        "id": "F2ayI51lQrFr"
      },
      "source": [
        "# 3. 切分資料集 - 訓練集 / 測試集\n"
      ]
    },
    {
      "cell_type": "code",
      "metadata": {
        "id": "D8usQDxuPJvL",
        "colab": {
          "base_uri": "https://localhost:8080/"
        },
        "outputId": "6d72a168-081e-4f4e-9040-f04976f91592"
      },
      "source": [
        "# 我們將資料切分成兩組，把80%當成訓練集，20%當成測試集\n",
        "# (train_x, train_y) 為80%的訓練集，用來訓練模型\n",
        "# (test_x , test_y ) 為20%的測試集，用來驗證模型的預測能力\n",
        "\n",
        "train_x, test_x, train_y, test_y = train_test_split(\n",
        "        my_data.data, my_data.target, test_size=0.2, random_state=43, shuffle=True)\n",
        "\n",
        "# 可以看一下這些資料集的維度，驗證沒有切錯\n",
        "print(\"原始資料集的維度大小:\" , my_data.data.shape)\n",
        "print(\"訓練集的維度大小:   \" , train_x.shape)\n",
        "print(\"測試集的維度大小:   \" , test_x.shape)"
      ],
      "execution_count": null,
      "outputs": [
        {
          "output_type": "stream",
          "text": [
            "原始資料集的維度大小: (506, 13)\n",
            "訓練集的維度大小:    (404, 13)\n",
            "測試集的維度大小:    (102, 13)\n"
          ],
          "name": "stdout"
        }
      ]
    },
    {
      "cell_type": "markdown",
      "metadata": {
        "id": "GWILdWlFlChC"
      },
      "source": [
        "# 4. 訓練模型及驗證模型"
      ]
    },
    {
      "cell_type": "code",
      "metadata": {
        "id": "Abr313yHkm_4",
        "colab": {
          "base_uri": "https://localhost:8080/"
        },
        "outputId": "5af5eded-33f2-4a51-ecd1-11a5db00bdc5"
      },
      "source": [
        "# 把預先載入好的套件「線性回歸模型」拿出來使用，並且存到變數my_model中\n",
        "my_model = LinearRegression()\n",
        "\n",
        "# 訓練模型，放入要訓練的訓練集(train_x, train_y)\n",
        "my_model.fit(train_x, train_y)\n",
        "\n",
        "# 訓練完模型後，我們就可以用 my_model 來預測測試集，產生出我們的預測值，存到 pred 變數內\n",
        "pred = my_model.predict(test_x)\n",
        "\n",
        "# 接著就可以使用我們的評估指標 MSE (mean_squared_error) 來評估我們模型的實際誤差\n",
        "# 注意MSE分數是越接近 0 越好，代表預測的值與真實答案相差無幾\n",
        "score = mean_squared_error(pred, test_y)\n",
        "print(\"模型評估完測試集的MSE: \", score)"
      ],
      "execution_count": null,
      "outputs": [
        {
          "output_type": "stream",
          "text": [
            "模型評估完測試集的MSE:  22.01861344950045\n"
          ],
          "name": "stdout"
        }
      ]
    },
    {
      "cell_type": "markdown",
      "metadata": {
        "id": "TaFV7-mC3g8Q"
      },
      "source": [
        "### Q: 那麼可以不要使用全部的13個特徵來訓練模型嗎?\n",
        "### A: 我們可以嘗試看看只拿其中的4個特徵來訓練看看!"
      ]
    },
    {
      "cell_type": "code",
      "metadata": {
        "id": "V5O0c2VUlQow",
        "colab": {
          "base_uri": "https://localhost:8080/"
        },
        "outputId": "eed9bc0a-0fc3-48c7-cb68-4e139b3f9d98"
      },
      "source": [
        "# 挑選其中的 4個特徵\n",
        "# 這裡的 , 前面如果填上數字代表著要哪些列(橫向), 填上 : 就是從最前面到最後面, 也就是全部都要\n",
        "# 而, 後面代表著挑選哪些行(直向), 也就是特徵, 所以直接填上數字代表你要挑選特徵欄位的位置\n",
        "train_x_f4 = train_x[:, [4,5,6,7]]\n",
        "test_x_f4  = test_x[ :, [4,5,6,7]] \n",
        "\n",
        "\n",
        "# 以下的程式碼與上一段的程式碼大同小異\n",
        "# 大家可以練習看看，但是注意 train_x, train_y, test_x, test_y 的位置要放對哦!\n",
        "model_f4 = LinearRegression()\n",
        "model_f4.fit(train_x_f4, train_y)\n",
        "\n",
        "pred = model_f4.predict(test_x_f4)\n",
        "\n",
        "# 最後可以看看這次的預測分數如何，與上一段的分數做比較\n",
        "score = mean_squared_error(pred, test_y)\n",
        "print(\"模型評估完測試集的誤差: \", score)"
      ],
      "execution_count": null,
      "outputs": [
        {
          "output_type": "stream",
          "text": [
            "模型評估完測試集的誤差:  39.04445392463858\n"
          ],
          "name": "stdout"
        }
      ]
    },
    {
      "cell_type": "code",
      "metadata": {
        "id": "vnnB_J65l9gB"
      },
      "source": [
        ""
      ],
      "execution_count": null,
      "outputs": []
    }
  ]
}